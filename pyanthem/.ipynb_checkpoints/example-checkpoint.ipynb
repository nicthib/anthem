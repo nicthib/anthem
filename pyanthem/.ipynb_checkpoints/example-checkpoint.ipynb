{
 "cells": [
  {
   "cell_type": "code",
   "execution_count": 1,
   "metadata": {},
   "outputs": [],
   "source": [
    "import pyanthem"
   ]
  },
  {
   "cell_type": "code",
   "execution_count": 3,
   "metadata": {},
   "outputs": [],
   "source": [
    "#raw_file = r'C:\\Users\\dnt21\\Downloads\\anthem_datasets-master\\demo1_raw.mat'\n",
    "#g.process_raw(file_in=raw_file,n_clusters=20,frame_rate=20,save=True)\n"
   ]
  },
  {
   "cell_type": "code",
   "execution_count": 5,
   "metadata": {
    "scrolled": false
   },
   "outputs": [
    {
     "name": "stdout",
     "output_type": "stream",
     "text": [
      "Video file written to C:\\Users\\dnt21\\Downloads\\anthem_datasets-master\n",
      "Audio file written to C:\\Users\\dnt21\\Downloads\\anthem_datasets-master\n",
      "A/V file written to C:\\Users\\dnt21\\Downloads\\anthem_datasets-master\n"
     ]
    },
    {
     "data": {
      "text/plain": [
       "<bound method GUI.AV_cleanup of <pyanthem.GUI object .>>"
      ]
     },
     "execution_count": 5,
     "metadata": {},
     "output_type": "execute_result"
    }
   ],
   "source": [
    "g = pyanthem.GUI(display=False)\n",
    "cfg = r'C:\\Users\\dnt21\\Downloads\\anthem_datasets-master\\demo2_cfg.p'\n",
    "data_file = r'C:\\Users\\dnt21\\Downloads\\anthem_datasets-master\\demo1.mat'\n",
    "g.load_config(filein=cfg)\n",
    "g.load_data(filein=data_file)\n",
    "g.AV_write_merge()\n",
    "g.AV_cleanup()\n"
   ]
  },
  {
   "cell_type": "code",
   "execution_count": 6,
   "metadata": {},
   "outputs": [
    {
     "data": {
      "text/plain": [
       "[0, 1, 2, 3, 4, 5, 6, 7, 8, 9, 10, 11, 12, 13, 14, 15, 16, 17]"
      ]
     },
     "execution_count": 6,
     "metadata": {},
     "output_type": "execute_result"
    }
   ],
   "source": [
    "g.Wshow_arr"
   ]
  },
  {
   "cell_type": "code",
   "execution_count": null,
   "metadata": {},
   "outputs": [],
   "source": []
  }
 ],
 "metadata": {
  "kernelspec": {
   "display_name": "Python 3",
   "language": "python",
   "name": "python3"
  },
  "language_info": {
   "codemirror_mode": {
    "name": "ipython",
    "version": 3
   },
   "file_extension": ".py",
   "mimetype": "text/x-python",
   "name": "python",
   "nbconvert_exporter": "python",
   "pygments_lexer": "ipython3",
   "version": "3.7.3"
  }
 },
 "nbformat": 4,
 "nbformat_minor": 4
}
