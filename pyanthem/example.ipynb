{
 "cells": [
  {
   "cell_type": "code",
   "execution_count": 1,
   "metadata": {},
   "outputs": [],
   "source": [
    "import pyanthem"
   ]
  },
  {
   "cell_type": "code",
   "execution_count": 2,
   "metadata": {},
   "outputs": [],
   "source": [
    "raw_file = r'C:\\Users\\dnt21\\Downloads\\anthem_datasets-master\\demo1_raw.mat'\n",
    "g = pyanthem.GUI(display=False)\n",
    "g.process_raw(file_in=raw_file,n_clusters=20,frame_rate=20,save=True)\n"
   ]
  },
  {
   "cell_type": "code",
   "execution_count": 6,
   "metadata": {
    "scrolled": false
   },
   "outputs": [
    {
     "name": "stdout",
     "output_type": "stream",
     "text": [
      "Video file written to C:\\Users\\dnt21\\Downloads\\anthem_datasets-master\n",
      "Audio file written to C:\\Users\\dnt21\\Downloads\\anthem_datasets-master\n",
      "A/V file written to C:\\Users\\dnt21\\Downloads\\anthem_datasets-master\n",
      "A/V only videos removed\n"
     ]
    },
    {
     "data": {
      "text/plain": [
       "<pyanthem.GUI object .>"
      ]
     },
     "execution_count": 6,
     "metadata": {},
     "output_type": "execute_result"
    }
   ],
   "source": [
    "g = pyanthem.GUI(display=False)\n",
    "cfg = r'C:\\Users\\dnt21\\Downloads\\anthem_datasets-master\\demo2_cfg.p'\n",
    "data_file = r'C:\\Users\\dnt21\\Downloads\\anthem_datasets-master\\demo1.mat'\n",
    "g.load_config(filein=cfg).load_data(filein=data_file)\n",
    "g.write_AV().cleanup()\n"
   ]
  }
 ],
 "metadata": {
  "kernelspec": {
   "display_name": "Python 3",
   "language": "python",
   "name": "python3"
  },
  "language_info": {
   "codemirror_mode": {
    "name": "ipython",
    "version": 3
   },
   "file_extension": ".py",
   "mimetype": "text/x-python",
   "name": "python",
   "nbconvert_exporter": "python",
   "pygments_lexer": "ipython3",
   "version": "3.7.3"
  }
 },
 "nbformat": 4,
 "nbformat_minor": 4
}
