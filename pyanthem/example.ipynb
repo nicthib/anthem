{
 "cells": [
  {
   "cell_type": "code",
   "execution_count": 5,
   "metadata": {},
   "outputs": [
    {
     "ename": "ModuleNotFoundError",
     "evalue": "No module named 'pyanthem.pyanthem_vars'; 'pyanthem' is not a package",
     "output_type": "error",
     "traceback": [
      "\u001b[0;31m---------------------------------------------------------------------------\u001b[0m",
      "\u001b[0;31mModuleNotFoundError\u001b[0m                       Traceback (most recent call last)",
      "\u001b[0;32m<ipython-input-5-7797a83d511b>\u001b[0m in \u001b[0;36m<module>\u001b[0;34m\u001b[0m\n\u001b[0;32m----> 1\u001b[0;31m \u001b[0;32mimport\u001b[0m \u001b[0mpyanthem\u001b[0m\u001b[0;34m\u001b[0m\u001b[0;34m\u001b[0m\u001b[0m\n\u001b[0m\u001b[1;32m      2\u001b[0m \u001b[0;32mfrom\u001b[0m \u001b[0mpyanthem_vars\u001b[0m \u001b[0;32mimport\u001b[0m \u001b[0;34m*\u001b[0m\u001b[0;34m\u001b[0m\u001b[0;34m\u001b[0m\u001b[0m\n",
      "\u001b[0;32m~/Desktop/pyanthem/pyanthem/pyanthem.py\u001b[0m in \u001b[0;36m<module>\u001b[0;34m\u001b[0m\n\u001b[1;32m     22\u001b[0m \u001b[0;32mfrom\u001b[0m \u001b[0msoundfile\u001b[0m \u001b[0;32mimport\u001b[0m \u001b[0mread\u001b[0m\u001b[0;34m\u001b[0m\u001b[0;34m\u001b[0m\u001b[0m\n\u001b[1;32m     23\u001b[0m \u001b[0;32mfrom\u001b[0m \u001b[0mmidiutil\u001b[0m \u001b[0;32mimport\u001b[0m \u001b[0mMIDIFile\u001b[0m\u001b[0;34m\u001b[0m\u001b[0;34m\u001b[0m\u001b[0m\n\u001b[0;32m---> 24\u001b[0;31m \u001b[0;32mfrom\u001b[0m \u001b[0mpyanthem\u001b[0m\u001b[0;34m.\u001b[0m\u001b[0mpyanthem_vars\u001b[0m \u001b[0;32mimport\u001b[0m \u001b[0;34m*\u001b[0m\u001b[0;34m\u001b[0m\u001b[0;34m\u001b[0m\u001b[0m\n\u001b[0m\u001b[1;32m     25\u001b[0m \u001b[0;34m\u001b[0m\u001b[0m\n\u001b[1;32m     26\u001b[0m \u001b[0;32mdef\u001b[0m \u001b[0mAE_download\u001b[0m\u001b[0;34m(\u001b[0m\u001b[0;34m)\u001b[0m\u001b[0;34m:\u001b[0m\u001b[0;34m\u001b[0m\u001b[0;34m\u001b[0m\u001b[0m\n",
      "\u001b[0;31mModuleNotFoundError\u001b[0m: No module named 'pyanthem.pyanthem_vars'; 'pyanthem' is not a package"
     ]
    }
   ],
   "source": [
    "import pyanthem\n",
    "from pyanthem_vars import *"
   ]
  },
  {
   "cell_type": "code",
   "execution_count": 4,
   "metadata": {},
   "outputs": [
    {
     "data": {
      "text/plain": [
       "['/Users/Nic/Desktop/pyanthem/pyanthem/pyanthem_vars.py/raw1.mat',\n",
       " '/Users/Nic/Desktop/pyanthem/pyanthem/pyanthem_vars.py/raw2.mat']"
      ]
     },
     "execution_count": 4,
     "metadata": {},
     "output_type": "execute_result"
    }
   ],
   "source": [
    "example_files_raw"
   ]
  },
  {
   "cell_type": "code",
   "execution_count": 2,
   "metadata": {
    "scrolled": false
   },
   "outputs": [
    {
     "name": "stdout",
     "output_type": "stream",
     "text": [
      "Video file written to /Users/Nic/Desktop/anthem_datasets\n",
      "Audio file written to /Users/Nic/Desktop/anthem_datasets\n",
      "A/V file written to /Users/Nic/Desktop/anthem_datasets\n",
      "A/V only videos removed\n"
     ]
    },
    {
     "data": {
      "text/plain": [
       "<pyanthem.GUI object .>"
      ]
     },
     "execution_count": 2,
     "metadata": {},
     "output_type": "execute_result"
    }
   ],
   "source": [
    "g = pyanthem.GUI(display=True)\n",
    "cfg = r'/Users/Nic/Desktop/anthem_datasets/demo1_cfg.p'\n",
    "data_file = r'/Users/Nic/Desktop/anthem_datasets/demo1.mat'\n",
    "g.load_config(filein=cfg)\n",
    "g.load_data(filein=data_file)\n",
    "g.write_AV().cleanup()\n"
   ]
  },
  {
   "cell_type": "code",
   "execution_count": 3,
   "metadata": {},
   "outputs": [
    {
     "data": {
      "text/plain": [
       "{'fr': 20.0,\n",
       " 'st_p': 0.0,\n",
       " 'en_p': 100.0,\n",
       " 'baseline': 0.0,\n",
       " 'brightness': 0.0372,\n",
       " 'threshold': 0.00154,\n",
       " 'oct_add': '2',\n",
       " 'scale_type': 'Maj. 7th (4/oct)',\n",
       " 'key': 'C',\n",
       " 'audio_format': 'Stream',\n",
       " 'Wshow': 'all',\n",
       " 'cmapchoice': 'jet',\n",
       " 'speed': 100.0,\n",
       " 'file_in': 'demo1',\n",
       " 'file_out': 'demo1',\n",
       " 'save_path': '/Users/Nic/Desktop/anthem_datasets',\n",
       " 'Wshow_arr': [0, 1, 2, 3, 4, 5, 6, 7, 8, 9, 10, 11, 12, 13, 14, 15, 16, 17],\n",
       " 'data_is_loaded': 1}"
      ]
     },
     "execution_count": 3,
     "metadata": {},
     "output_type": "execute_result"
    }
   ],
   "source": [
    "g.cfg"
   ]
  },
  {
   "cell_type": "code",
   "execution_count": 5,
   "metadata": {},
   "outputs": [
    {
     "name": "stdout",
     "output_type": "stream",
     "text": [
      "Performing k-means...done.\n",
      "Performing NNLS...done.\n",
      "Decomposed data file saved to /Users/Nic/Desktop/anthem_datasets/demo1_raw_decomp.mat\n"
     ]
    },
    {
     "data": {
      "text/plain": [
       "<pyanthem.GUI object .>"
      ]
     },
     "execution_count": 5,
     "metadata": {},
     "output_type": "execute_result"
    }
   ],
   "source": [
    "raw_file = r'/Users/Nic/Desktop/anthem_datasets/demo1_raw.mat'\n",
    "g = pyanthem.GUI(display=False)\n",
    "g.process_raw(file_in=raw_file,n_clusters=20,frame_rate=20,save=True)\n"
   ]
  },
  {
   "cell_type": "code",
   "execution_count": null,
   "metadata": {},
   "outputs": [],
   "source": [
    "g.quit()"
   ]
  }
 ],
 "metadata": {
  "kernelspec": {
   "display_name": "Python 3",
   "language": "python",
   "name": "python3"
  }
 },
 "nbformat": 4,
 "nbformat_minor": 4
}
