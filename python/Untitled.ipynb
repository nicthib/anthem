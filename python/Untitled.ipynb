{
 "cells": [
  {
   "cell_type": "code",
   "execution_count": null,
   "metadata": {},
   "outputs": [],
   "source": [
    "from tkinter import *\n",
    "from scipy.io import loadmat, whosmat\n",
    "from tkinter import filedialog as fd \n",
    "\n",
    "#file = fd.askopenfilename(filetypes=[(\"mat files\",\"*.mat\")])\n",
    "file = r'/Users/Nic/Desktop/neuroauvi/inputs/demo1.mat'\n",
    "#dset = loadmat(file)\n",
    "vars = whosmat(file)\n",
    "varnames = [var[0]+', size = ' var[1] for var in vars]\n",
    "vp = Tk()\n",
    "Label(text='Choose temporal variable').grid(row=0,column=0, sticky='W')\n",
    "var = StringVar(vp)\n",
    "var.set(varnames[0])\n",
    "varlist = OptionMenu(vp,var,*varnames).grid(row=1, column=0, sticky='W')\n",
    "vp.mainloop()"
   ]
  },
  {
   "cell_type": "code",
   "execution_count": null,
   "metadata": {},
   "outputs": [],
   "source": []
  }
 ],
 "metadata": {
  "kernelspec": {
   "display_name": "Python 3",
   "language": "python",
   "name": "python3"
  },
  "language_info": {
   "codemirror_mode": {
    "name": "ipython",
    "version": 3
   },
   "file_extension": ".py",
   "mimetype": "text/x-python",
   "name": "python",
   "nbconvert_exporter": "python",
   "pygments_lexer": "ipython3",
   "version": "3.7.6"
  }
 },
 "nbformat": 4,
 "nbformat_minor": 2
}
