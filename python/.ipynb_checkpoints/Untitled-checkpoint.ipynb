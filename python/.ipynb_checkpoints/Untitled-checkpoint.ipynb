{
 "cells": [
  {
   "cell_type": "code",
   "execution_count": 1,
   "metadata": {},
   "outputs": [],
   "source": [
    "from main import *"
   ]
  },
  {
   "cell_type": "code",
   "execution_count": 2,
   "metadata": {},
   "outputs": [],
   "source": [
    "file = fd.askopenfilename(title='Select .mat file for import',filetypes=[('.mat files','*.mat')])\n",
    "vs = whosmat(file)\n",
    "#dset = loadmat(file)\n",
    "vname,vsize = [v[0] for v in vs],[v[1] for v in vs]\n",
    "vp = Tk()\n",
    "Label(text='Choose temporal variable').grid(row=0,column=0, sticky='W')\n",
    "var = StringVar(vp)\n",
    "var.set(vname[0])\n",
    "varlist = OptionMenu(vp,var,*vname,command=vp.quit()).grid(row=1, column=0, sticky='W')\n",
    "vp.mainloop()"
   ]
  },
  {
   "cell_type": "code",
   "execution_count": 19,
   "metadata": {},
   "outputs": [
    {
     "data": {
      "text/plain": [
       "[(18, 1205), (256, 256, 18)]"
      ]
     },
     "execution_count": 19,
     "metadata": {},
     "output_type": "execute_result"
    }
   ],
   "source": [
    "vnames,vsz = [v[0] for v in vs],[v[1] for v in vs]\n",
    "vsz"
   ]
  }
 ],
 "metadata": {
  "kernelspec": {
   "display_name": "Python 3",
   "language": "python",
   "name": "python3"
  },
  "language_info": {
   "codemirror_mode": {
    "name": "ipython",
    "version": 3
   },
   "file_extension": ".py",
   "mimetype": "text/x-python",
   "name": "python",
   "nbconvert_exporter": "python",
   "pygments_lexer": "ipython3",
   "version": "3.7.3"
  }
 },
 "nbformat": 4,
 "nbformat_minor": 2
}
